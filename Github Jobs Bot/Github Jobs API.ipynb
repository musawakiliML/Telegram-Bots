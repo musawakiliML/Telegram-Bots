{
 "cells": [
  {
   "cell_type": "code",
   "execution_count": 8,
   "metadata": {},
   "outputs": [
    {
     "data": {
      "text/plain": [
       "200"
      ]
     },
     "execution_count": 8,
     "metadata": {},
     "output_type": "execute_result"
    }
   ],
   "source": [
    "import requests\n",
    "\n",
    "response = requests.get(\"https://jobs.github.com/positions.json?description=python&location=new+york\")\n",
    "\n",
    "response.status_code"
   ]
  },
  {
   "cell_type": "code",
   "execution_count": 12,
   "metadata": {},
   "outputs": [
    {
     "name": "stdout",
     "output_type": "stream",
     "text": [
      "enter user to search:musawakiliML\n"
     ]
    },
    {
     "data": {
      "text/plain": [
       "b'{\"login\":\"musawakiliML\",\"id\":19978292,\"node_id\":\"MDQ6VXNlcjE5OTc4Mjky\",\"avatar_url\":\"https://avatars.githubusercontent.com/u/19978292?v=4\",\"gravatar_id\":\"\",\"url\":\"https://api.github.com/users/musawakiliML\",\"html_url\":\"https://github.com/musawakiliML\",\"followers_url\":\"https://api.github.com/users/musawakiliML/followers\",\"following_url\":\"https://api.github.com/users/musawakiliML/following{/other_user}\",\"gists_url\":\"https://api.github.com/users/musawakiliML/gists{/gist_id}\",\"starred_url\":\"https://api.github.com/users/musawakiliML/starred{/owner}{/repo}\",\"subscriptions_url\":\"https://api.github.com/users/musawakiliML/subscriptions\",\"organizations_url\":\"https://api.github.com/users/musawakiliML/orgs\",\"repos_url\":\"https://api.github.com/users/musawakiliML/repos\",\"events_url\":\"https://api.github.com/users/musawakiliML/events{/privacy}\",\"received_events_url\":\"https://api.github.com/users/musawakiliML/received_events\",\"type\":\"User\",\"site_admin\":false,\"name\":\"Musa Adamu Wakili\",\"company\":\"Musaml.ai\",\"blog\":\"musawakiliML.github.io\",\"location\":\"Bauchi\",\"email\":null,\"hireable\":true,\"bio\":null,\"twitter_username\":null,\"public_repos\":7,\"public_gists\":0,\"followers\":0,\"following\":5,\"created_at\":\"2016-06-16T15:25:40Z\",\"updated_at\":\"2021-02-04T12:49:19Z\"}'"
      ]
     },
     "execution_count": 12,
     "metadata": {},
     "output_type": "execute_result"
    }
   ],
   "source": [
    "#response.content\n",
    "enter = input(\"enter user to search:\")\n",
    "\n",
    "user = requests.get(f\"https://api.github.com/users/{enter}\")\n",
    "\n",
    "user.content"
   ]
  },
  {
   "cell_type": "code",
   "execution_count": null,
   "metadata": {},
   "outputs": [],
   "source": []
  }
 ],
 "metadata": {
  "kernelspec": {
   "display_name": "Python 3",
   "language": "python",
   "name": "python3"
  },
  "language_info": {
   "codemirror_mode": {
    "name": "ipython",
    "version": 3
   },
   "file_extension": ".py",
   "mimetype": "text/x-python",
   "name": "python",
   "nbconvert_exporter": "python",
   "pygments_lexer": "ipython3",
   "version": "3.8.5"
  }
 },
 "nbformat": 4,
 "nbformat_minor": 4
}
